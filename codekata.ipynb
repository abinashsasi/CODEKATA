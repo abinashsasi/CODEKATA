{
 "cells": [
  {
   "cell_type": "code",
   "execution_count": 8,
   "metadata": {},
   "outputs": [
    {
     "name": "stdout",
     "output_type": "stream",
     "text": [
      "2014\n"
     ]
    }
   ],
   "source": [
    "#34.array\n",
    "n=5\n",
    "year=[2004,1999,2019,2009,2014]\n",
    "party=['JDU','JDU','CON','JDU','CON']\n",
    "\n",
    "election_data=sorted(zip(year,party))\n",
    "\n",
    "\n",
    "transition_data = [ ]\n",
    "for i in range(1,n):\n",
    "    if election_data[i][1] != election_data[i-1][1]:\n",
    "        transition_data.append(election_data[i][0])\n",
    "        \n",
    "for i in transition_data:\n",
    "    print(i)\n",
    "        "
   ]
  },
  {
   "cell_type": "code",
   "execution_count": 19,
   "metadata": {},
   "outputs": [
    {
     "name": "stdout",
     "output_type": "stream",
     "text": [
      "1\n",
      "1 1 1\n",
      "1 1 1 1 1\n"
     ]
    }
   ],
   "source": [
    "#35.array\n",
    "n=3\n",
    "\n",
    "for i in range(1,n+1):\n",
    "    counts = 2 * i -1\n",
    "    print(\" \".join([\"1\"]*counts))"
   ]
  },
  {
   "cell_type": "code",
   "execution_count": 21,
   "metadata": {},
   "outputs": [
    {
     "name": "stdout",
     "output_type": "stream",
     "text": [
      "5\n"
     ]
    }
   ],
   "source": [
    "#36.array\n",
    "n=12\n",
    "sum_of_alldegit = 0\n",
    "for i in str(n):\n",
    "    squre = int(i)**2\n",
    "    sum_of_alldegit += squre\n",
    "print(sum_of_alldegit)\n"
   ]
  },
  {
   "cell_type": "code",
   "execution_count": 30,
   "metadata": {},
   "outputs": [
    {
     "name": "stdout",
     "output_type": "stream",
     "text": [
      "1 2 0\n"
     ]
    }
   ],
   "source": [
    "#37.array\n",
    "# Input\n",
    "f = 3  # Number of elements\n",
    "F = [1,5,4]  # Array of focal lengths\n",
    "\n",
    "# Pair each element with its index\n",
    "indexed_focal_lengths = [(value, index) for index, value in enumerate(F)]\n",
    "\n",
    "# Sort pairs by value in descending order\n",
    "sorted_indices = sorted(indexed_focal_lengths, key=lambda x: x[0], reverse=True)\n",
    "\n",
    "# Extract indices from the sorted pairs\n",
    "result_indices = [pair[1] for pair in sorted_indices]\n",
    "\n",
    "# Output the indices\n",
    "print(\" \".join(map(str, result_indices)))\n"
   ]
  },
  {
   "cell_type": "code",
   "execution_count": 42,
   "metadata": {},
   "outputs": [
    {
     "name": "stdout",
     "output_type": "stream",
     "text": [
      "AIAH BNS\n",
      "AIAH BNS\n"
     ]
    }
   ],
   "source": [
    "#38\n",
    "S=\"ABINASH\"\n",
    "\n",
    "odd=[]\n",
    "even=[]\n",
    "for i,st in enumerate(S):\n",
    "    if i%2==0:\n",
    "        even.append(st)\n",
    "    else:\n",
    "        odd.append(st)\n",
    "first=\"\".join(even)\n",
    "second=\"\".join(odd)\n",
    "print(\"{} {}\".format(first,second))\n",
    "\n",
    "# Input the string\n",
    "S = \"ABINASH\"\n",
    "\n",
    "# Separate characters into odd and even positions\n",
    "odd_positions = S[0::2]  # Characters at indices 0, 2, 4, ...\n",
    "even_positions = S[1::2]  # Characters at indices 1, 3, 5, ...\n",
    "\n",
    "# Output the results\n",
    "print(odd_positions, even_positions)"
   ]
  },
  {
   "cell_type": "code",
   "execution_count": 43,
   "metadata": {},
   "outputs": [
    {
     "name": "stdout",
     "output_type": "stream",
     "text": [
      "2\n"
     ]
    }
   ],
   "source": [
    "#39\n",
    "N=5\n",
    "die=[1,1,2,5,5]\n",
    "\n",
    "for i in die:\n",
    "    if die.count(i)==1:\n",
    "        print(i)"
   ]
  },
  {
   "cell_type": "code",
   "execution_count": null,
   "metadata": {},
   "outputs": [],
   "source": [
    "#40\n",
    "# Input dimensions of the matrix\n",
    "M, N = map(int, input().split())\n",
    "\n",
    "# Input the matrix\n",
    "mat = [list(map(int, input().split())) for _ in range(M)]\n",
    "\n",
    "# Count the number of 0s and 1s\n",
    "count_ram = sum(row.count(0) for row in mat)  # Count 0s\n",
    "count_sita = sum(row.count(1) for row in mat)  # Count 1s\n",
    "\n",
    "# Output the results\n",
    "print(f\"RAM: {count_ram}\")\n",
    "print(f\"SITA: {count_sita}\")\n",
    "\n"
   ]
  },
  {
   "cell_type": "code",
   "execution_count": 49,
   "metadata": {},
   "outputs": [
    {
     "name": "stdout",
     "output_type": "stream",
     "text": [
      "Dealer0\n"
     ]
    }
   ],
   "source": [
    "#41\n",
    "N=3\n",
    "A=[1000,2000,3000]\n",
    "min_value_index = A.index(min(A))\n",
    "print(f\"Dealer{min_value_index}\")"
   ]
  },
  {
   "cell_type": "code",
   "execution_count": 51,
   "metadata": {},
   "outputs": [
    {
     "name": "stdout",
     "output_type": "stream",
     "text": [
      "yes\n"
     ]
    }
   ],
   "source": [
    "#42\n",
    "def is_prisoner_present(matrix, prisoner_id):\n",
    "    for row in matrix:\n",
    "        if prisoner_id in row:\n",
    "            return \"yes\"\n",
    "    return \"no\"\n",
    "\n",
    "# Input dimensions of the matrix\n",
    "M, N = map(int, input().split())\n",
    "\n",
    "# Input the matrix\n",
    "matrix = [list(map(int, input().split())) for _ in range(M)]\n",
    "\n",
    "# Input the prisoner id to be searched\n",
    "prisoner_id = int(input())\n",
    "\n",
    "# Check if the prisoner is present\n",
    "result = is_prisoner_present(matrix, prisoner_id)\n",
    "print(result)"
   ]
  },
  {
   "cell_type": "code",
   "execution_count": null,
   "metadata": {},
   "outputs": [],
   "source": []
  },
  {
   "cell_type": "code",
   "execution_count": null,
   "metadata": {},
   "outputs": [],
   "source": [
    "#44 Input the size of the array\n",
    "n = int(input())\n",
    "\n",
    "# Input the array elements\n",
    "arr = list(map(int, input().split()))\n",
    "\n",
    "# Initialize variables for Kadane's Algorithm\n",
    "max_so_far = arr[0]  # The maximum sum found so far\n",
    "max_ending_here = arr[0]  # The sum of the current subarray\n",
    "\n",
    "# Iterate over the array starting from the second element\n",
    "for i in range(1, n):\n",
    "    max_ending_here = max(arr[i], max_ending_here + arr[i])  # Include current element or start new subarray\n",
    "    max_so_far = max(max_so_far, max_ending_here)  # Update the global maximum\n",
    "\n",
    "# Output the maximum subarray sum\n",
    "print(max_so_far)\n"
   ]
  },
  {
   "cell_type": "code",
   "execution_count": null,
   "metadata": {},
   "outputs": [],
   "source": [
    "#45 Input size of the array\n",
    "N = int(input())\n",
    "\n",
    "# Input the array elements\n",
    "arr = list(map(int, input().split()))\n",
    "\n",
    "# Initialize the sum for negative numbers\n",
    "sum_negative = 0\n",
    "\n",
    "# Loop through the array and sum negative numbers\n",
    "for num in arr:\n",
    "    if num < 0:\n",
    "        sum_negative += num\n",
    "\n",
    "# Output the sum of negative numbers\n",
    "print(sum_negative)\n"
   ]
  }
 ],
 "metadata": {
  "kernelspec": {
   "display_name": ".venv",
   "language": "python",
   "name": "python3"
  },
  "language_info": {
   "codemirror_mode": {
    "name": "ipython",
    "version": 3
   },
   "file_extension": ".py",
   "mimetype": "text/x-python",
   "name": "python",
   "nbconvert_exporter": "python",
   "pygments_lexer": "ipython3",
   "version": "3.13.1"
  }
 },
 "nbformat": 4,
 "nbformat_minor": 2
}
